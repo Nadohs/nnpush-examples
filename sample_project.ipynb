{
 "cells": [
  {
   "cell_type": "code",
   "execution_count": null,
   "metadata": {
    "collapsed": true
   },
   "outputs": [],
   "source": [
    "library with `pip install nnpush`"
   ]
  },
  {
   "cell_type": "code",
   "execution_count": 1,
   "metadata": {},
   "outputs": [
    {
     "name": "stdout",
     "output_type": "stream",
     "text": [
      "created\n",
      "\n",
      "token:  b2257440-192a-11e8-9696-11035c1eabab\n",
      "pid:  99\n",
      "name:  long-mountain-7714\n"
     ]
    },
    {
     "data": {
      "image/png": "[encoded data removed]",
      "text/plain": [
       "<IPython.core.display.Image object>"
      ]
     },
     "metadata": {},
     "output_type": "display_data"
    }
   ],
   "source": [
    "#create via QR code\n",
    "import nnpush\n",
    "nnpush.qr_connect()"
   ]
  },
  {
   "cell_type": "code",
   "execution_count": null,
   "metadata": {},
   "outputs": [],
   "source": [
    "#connect with existing token & pid\n",
    "import nnpush\n",
    "nnpush.token_connect(token='01e2ea10-16da-11e8-89ff-53dab96c793e', pid='95')|"
   ]
  },
  {
   "cell_type": "code",
   "execution_count": null,
   "metadata": {
    "collapsed": true
   },
   "outputs": [],
   "source": [
    "#nnpush.complete_training()"
   ]
  },
  {
   "cell_type": "code",
   "execution_count": null,
   "metadata": {},
   "outputs": [],
   "source": [
    "#check python version\n",
    "import sys\n",
    "sys.version\n",
    "sys.version_info"
   ]
  },
  {
   "cell_type": "code",
   "execution_count": null,
   "metadata": {
    "collapsed": true
   },
   "outputs": [],
   "source": [
    "#define hyperparameters\n",
    "batch_size = 16\n",
    "z_dim = 128\n",
    "learning_rate = 0.007\n",
    "beta1 = 0.3"
   ]
  },
  {
   "cell_type": "code",
   "execution_count": null,
   "metadata": {
    "collapsed": true,
    "scrolled": false
   },
   "outputs": [],
   "source": [
    "#track definied hyperparameters\n",
    "#NOTE: params all must be on __main__ module in global scope\n",
    "nnpush.track_hyperparameters([\n",
    "    batch_size,\n",
    "    z_dim,\n",
    "    learning_rate,\n",
    "    beta1])#start a training iteration"
   ]
  },
  {
   "cell_type": "code",
   "execution_count": null,
   "metadata": {},
   "outputs": [],
   "source": [
    "out = nnpush.parameter_blob()\n",
    "print(out)"
   ]
  },
  {
   "cell_type": "code",
   "execution_count": null,
   "metadata": {
    "collapsed": true
   },
   "outputs": [],
   "source": [
    "import random\n",
    "\n",
    "def mock_iteration_training():\n",
    "    print(\"--------------------\")\n",
    "    \n",
    "    #start a training iteration\n",
    "    session_id = nnpush.start_iteration()\n",
    "    print('-',session_id, '-sessionID')\n",
    "\n",
    "    #update with loss 10 times\n",
    "    for i in range(0,2):\n",
    "        loss = random.random()\n",
    "        nnpush.update_iteration(session_id, loss)\n",
    "    \n",
    "    #complete training iteration\n",
    "    nnpush.complete_training(session_id)"
   ]
  },
  {
   "cell_type": "code",
   "execution_count": null,
   "metadata": {
    "scrolled": false
   },
   "outputs": [],
   "source": [
    "#test out running 5 sessions\n",
    "for i in range(0,5):\n",
    "    mock_iteration_training()\n",
    "    \n",
    "nnpush.complete_project()\n"
   ]
  },
  {
   "cell_type": "code",
   "execution_count": null,
   "metadata": {
    "collapsed": true
   },
   "outputs": [],
   "source": []
  },
  {
   "cell_type": "code",
   "execution_count": null,
   "metadata": {},
   "outputs": [],
   "source": [
    "#show that tracking parameters works after value is changed\n",
    "batch_size = 20\n",
    "z_dim = 130\n",
    "\n",
    "learning_rate = 0.002\n",
    "beta1 = 0.3\n",
    "\n",
    "out = nnpush.parameter_blob()\n",
    "print(out)"
   ]
  },
  {
   "cell_type": "markdown",
   "metadata": {
    "collapsed": true
   },
   "source": [
    "# show that tracking parameters works after value is changed\n",
    "batch_size = 25\n",
    "z_dim = 132\n",
    "\n",
    "learning_rate = 0.001\n",
    "beta1 = 0.2\n",
    "\n",
    "out = nnpush.parameter_blob()\n",
    "print(out)"
   ]
  },
  {
   "cell_type": "code",
   "execution_count": null,
   "metadata": {
    "collapsed": true
   },
   "outputs": [],
   "source": []
  }
 ],
 "metadata": {
  "kernelspec": {
   "display_name": "Python 3",
   "language": "python",
   "name": "python3"
  },
  "language_info": {
   "codemirror_mode": {
    "name": "ipython",
    "version": 3
   },
   "file_extension": ".py",
   "mimetype": "text/x-python",
   "name": "python",
   "nbconvert_exporter": "python",
   "pygments_lexer": "ipython3",
   "version": "3.5.4"
  }
 },
 "nbformat": 4,
 "nbformat_minor": 2
}
